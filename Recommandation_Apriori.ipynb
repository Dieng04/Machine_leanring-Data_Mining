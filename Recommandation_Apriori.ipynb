{
 "cells": [
  {
   "cell_type": "markdown",
   "metadata": {},
   "source": [
    "Recuperation des donnes on filtre sur les donnees qui sont utiles celle qui correspondent à des tickets de vente"
   ]
  },
  {
   "cell_type": "code",
   "execution_count": 4,
   "metadata": {
    "collapsed": true
   },
   "outputs": [],
   "source": [
    "import pandas as pd\n",
    "import matplotlib.pyplot as plt\n",
    "d = pd.read_csv('data2.csv', sep=',')\n",
    "\n",
    "d=d.loc[d['Quantity'] > 0]\n",
    "d=d.loc[d['Description'] != \"?\"]\n",
    "d=d.loc[d['Description'] != \"DOTCOM POSTAGE\"]\n",
    "data = d.iloc[:,[0,1]]\n",
    "vente=d.iloc[:,[2,3]]"
   ]
  },
  {
   "cell_type": "markdown",
   "metadata": {},
   "source": [
    "Fonction utilitaire:\n",
    "Permet de passer de nom a code et inversement"
   ]
  },
  {
   "cell_type": "code",
   "execution_count": 5,
   "metadata": {
    "collapsed": true
   },
   "outputs": [],
   "source": [
    "produits = d.iloc[:,[1,2]].drop_duplicates(subset='StockCode')\n",
    "produits2 = d.iloc[:,[1,2]].drop_duplicates(subset='Description')\n",
    "def codeToName(code):\n",
    "    result= produits.loc[produits['StockCode'] == code]\n",
    "    if(result.size>0):\n",
    "        return result.Description.values[0]\n",
    "    else:\n",
    "        return \"ProduitNonTrouve\"\n",
    "def nameToCode(name):\n",
    "    result= produits2.loc[produits2['Description'] == name]\n",
    "    if(result.size>0):\n",
    "        return result.StockCode.values[0]\n",
    "    else:\n",
    "        return \"ProduitNonTrouve\""
   ]
  },
  {
   "cell_type": "markdown",
   "metadata": {
    "collapsed": true
   },
   "source": [
    "on transforme la base de donne en liste de transaction"
   ]
  },
  {
   "cell_type": "code",
   "execution_count": 6,
   "metadata": {
    "collapsed": true
   },
   "outputs": [],
   "source": [
    "groupe = data.groupby('InvoiceNo')\n",
    "transaction=[]\n",
    "transactions=[]\n",
    "for name,group in groupe:\n",
    "    for x in group.StockCode:\n",
    "        transaction.append(x)\n",
    "    transactions.append(transaction)\n",
    "    transaction=[]\n",
    "    "
   ]
  },
  {
   "cell_type": "markdown",
   "metadata": {},
   "source": [
    "Bibliotheque implementant apriori"
   ]
  },
  {
   "cell_type": "code",
   "execution_count": 7,
   "metadata": {
    "collapsed": true
   },
   "outputs": [],
   "source": [
    "from apyori import apriori  "
   ]
  },
  {
   "cell_type": "markdown",
   "metadata": {},
   "source": [
    "ici on parametre l'algo pour avoir un nombre de regles d'associations suffisantes tout en ayant un temps de calcul limité:\n",
    "7819 associations\n",
    "~30 min de temps de calcul\n",
    "<h3> attention avant de lancer ce bout de code ca prend du temps </H3>"
   ]
  },
  {
   "cell_type": "code",
   "execution_count": 146,
   "metadata": {},
   "outputs": [
    {
     "name": "stdout",
     "output_type": "stream",
     "text": [
      "7819\n"
     ]
    }
   ],
   "source": [
    "association_rules = apriori(transactions, min_support=0.005, min_confidence=0.5, min_lift=1, min_length=2)  \n",
    "association_results = list(association_rules) \n",
    "print(len(association_results)) "
   ]
  },
  {
   "cell_type": "markdown",
   "metadata": {},
   "source": [
    "fonction qui permet de connaitre ce qui va etre achete avec un produit\n",
    "amelioration possible:\n",
    "avec plusieurs items"
   ]
  },
  {
   "cell_type": "code",
   "execution_count": 24,
   "metadata": {
    "collapsed": true
   },
   "outputs": [],
   "source": [
    "def acheteAvec(assoc, base):\n",
    "    listeRetour = []\n",
    "    confiance=0\n",
    "    elem=[\"codeItem\",confiance]\n",
    "    print(\"avec: \" + codeToName(base)+\"\\nIl va acheter:\\n\")\n",
    "    for relations in assoc:\n",
    "        for relation in relations[2]:\n",
    "            if base in relation[0] and len(relation[0])==1:\n",
    "                for x in relation[1]:\n",
    "                    elem.append(x)\n",
    "                    print(codeToName(x))\n",
    "                print(\"avec une confiance de: \")\n",
    "                elem.append(relation[2])\n",
    "                print(relation[2])\n",
    "                listeRetour.append(elem)\n",
    "                elem.clear()\n",
    "                print()\n",
    "    return listeRetour\n",
    "        "
   ]
  },
  {
   "cell_type": "markdown",
   "metadata": {},
   "source": [
    "test"
   ]
  },
  {
   "cell_type": "code",
   "execution_count": 9,
   "metadata": {},
   "outputs": [
    {
     "ename": "NameError",
     "evalue": "name 'association_results' is not defined",
     "output_type": "error",
     "traceback": [
      "\u001b[0;31m---------------------------------------------------------------------------\u001b[0m",
      "\u001b[0;31mNameError\u001b[0m                                 Traceback (most recent call last)",
      "\u001b[0;32m<ipython-input-9-8cbe93d2ef52>\u001b[0m in \u001b[0;36m<module>\u001b[0;34m()\u001b[0m\n\u001b[0;32m----> 1\u001b[0;31m \u001b[0macheteAvec\u001b[0m\u001b[0;34m(\u001b[0m\u001b[0massociation_results\u001b[0m\u001b[0;34m,\u001b[0m\u001b[0mnameToCode\u001b[0m\u001b[0;34m(\u001b[0m\u001b[0;34m\"WHITE HANGING HEART T-LIGHT HOLDER\"\u001b[0m\u001b[0;34m)\u001b[0m\u001b[0;34m)\u001b[0m\u001b[0;34m\u001b[0m\u001b[0m\n\u001b[0m",
      "\u001b[0;31mNameError\u001b[0m: name 'association_results' is not defined"
     ]
    }
   ],
   "source": [
    "acheteAvec(association_results,nameToCode(\"WHITE HANGING HEART T-LIGHT HOLDER\"))\n"
   ]
  },
  {
   "cell_type": "markdown",
   "metadata": {},
   "source": [
    "Test: pour faire que du apriori sur les transactions contenant notre item\n",
    "\n",
    "on recupere seulement les tickets contenant notre item"
   ]
  },
  {
   "cell_type": "code",
   "execution_count": 10,
   "metadata": {
    "collapsed": true
   },
   "outputs": [],
   "source": [
    "def contenant(transactions, item):\n",
    "    TransactionsRetour=[]\n",
    "    for motif in transactions:\n",
    "        if item in motif:\n",
    "            TransactionsRetour.append(motif)\n",
    "    return TransactionsRetour"
   ]
  },
  {
   "cell_type": "code",
   "execution_count": 11,
   "metadata": {},
   "outputs": [
    {
     "data": {
      "text/plain": [
       "1051"
      ]
     },
     "execution_count": 11,
     "metadata": {},
     "output_type": "execute_result"
    }
   ],
   "source": [
    "TransactionsItem = contenant(transactions,\"22727\")\n",
    "len(TransactionsItem)"
   ]
  },
  {
   "cell_type": "markdown",
   "metadata": {},
   "source": [
    "Puis on fait un apriori dessus\n",
    "Il faut chercher a ameliorer le calcul de la confidence"
   ]
  },
  {
   "cell_type": "code",
   "execution_count": 12,
   "metadata": {},
   "outputs": [
    {
     "name": "stdout",
     "output_type": "stream",
     "text": [
      "23\n"
     ]
    }
   ],
   "source": [
    "association_rules = apriori(TransactionsItem, min_support=0.2, min_confidence=0.2, min_lift=0, min_length=2)\n",
    "association_results = list(association_rules) \n",
    "print(len(association_results)) "
   ]
  },
  {
   "cell_type": "code",
   "execution_count": 32,
   "metadata": {},
   "outputs": [
    {
     "ename": "SyntaxError",
     "evalue": "invalid syntax (<ipython-input-32-8f9f456a62a0>, line 4)",
     "output_type": "error",
     "traceback": [
      "\u001b[0;36m  File \u001b[0;32m\"<ipython-input-32-8f9f456a62a0>\"\u001b[0;36m, line \u001b[0;32m4\u001b[0m\n\u001b[0;31m    *if((len(TransactionsItem)>1000):)\u001b[0m\n\u001b[0m      ^\u001b[0m\n\u001b[0;31mSyntaxError\u001b[0m\u001b[0;31m:\u001b[0m invalid syntax\n"
     ]
    }
   ],
   "source": [
    "def faitTout(code):\n",
    "    TransactionsItem = contenant(transactions,code)\n",
    "    print(len(TransactionsItem))\n",
    "    if(len(TransactionsItem)>1000):\n",
    "        sup=0.1\n",
    "    else:\n",
    "        sup=1/len(TransactionsItem)*100\n",
    "    if(sup>0.3):\n",
    "        sup=0.3\n",
    "    association_rules = apriori(TransactionsItem, min_support=sup, min_confidence=0.2, min_lift=0, min_length=2)\n",
    "    association_results = list(association_rules)\n",
    "    acheteAvec(association_results,code)"
   ]
  },
  {
   "cell_type": "code",
   "execution_count": 33,
   "metadata": {},
   "outputs": [
    {
     "ename": "ZeroDivisionError",
     "evalue": "division by zero",
     "output_type": "error",
     "traceback": [
      "\u001b[0;31m---------------------------------------------------------------------------\u001b[0m",
      "\u001b[0;31mZeroDivisionError\u001b[0m                         Traceback (most recent call last)",
      "\u001b[0;32m<ipython-input-33-d4f468288260>\u001b[0m in \u001b[0;36m<module>\u001b[0;34m()\u001b[0m\n\u001b[0;32m----> 1\u001b[0;31m \u001b[0mfaitTout\u001b[0m\u001b[0;34m(\u001b[0m\u001b[0;34m[\u001b[0m\u001b[0;34m\"22689\"\u001b[0m\u001b[0;34m,\u001b[0m\u001b[0mnameToCode\u001b[0m\u001b[0;34m(\u001b[0m\u001b[0;34m\"PAPER CHAIN KIT 50'S CHRISTMAS\"\u001b[0m\u001b[0;34m)\u001b[0m\u001b[0;34m]\u001b[0m\u001b[0;34m)\u001b[0m\u001b[0;34m\u001b[0m\u001b[0m\n\u001b[0m",
      "\u001b[0;32m<ipython-input-29-fd08ade867c1>\u001b[0m in \u001b[0;36mfaitTout\u001b[0;34m(code)\u001b[0m\n\u001b[1;32m      4\u001b[0m         \u001b[0msup\u001b[0m\u001b[0;34m=\u001b[0m\u001b[0;36m0.1\u001b[0m\u001b[0;34m\u001b[0m\u001b[0m\n\u001b[1;32m      5\u001b[0m     \u001b[0;32melse\u001b[0m\u001b[0;34m:\u001b[0m\u001b[0;34m\u001b[0m\u001b[0m\n\u001b[0;32m----> 6\u001b[0;31m         \u001b[0msup\u001b[0m\u001b[0;34m=\u001b[0m\u001b[0;36m1\u001b[0m\u001b[0;34m/\u001b[0m\u001b[0mlen\u001b[0m\u001b[0;34m(\u001b[0m\u001b[0mTransactionsItem\u001b[0m\u001b[0;34m)\u001b[0m\u001b[0;34m*\u001b[0m\u001b[0;36m100\u001b[0m\u001b[0;34m\u001b[0m\u001b[0m\n\u001b[0m\u001b[1;32m      7\u001b[0m     \u001b[0;32mif\u001b[0m\u001b[0;34m(\u001b[0m\u001b[0msup\u001b[0m\u001b[0;34m>\u001b[0m\u001b[0;36m0.3\u001b[0m\u001b[0;34m)\u001b[0m\u001b[0;34m:\u001b[0m\u001b[0;34m\u001b[0m\u001b[0m\n\u001b[1;32m      8\u001b[0m         \u001b[0msup\u001b[0m\u001b[0;34m=\u001b[0m\u001b[0;36m0.3\u001b[0m\u001b[0;34m\u001b[0m\u001b[0m\n",
      "\u001b[0;31mZeroDivisionError\u001b[0m: division by zero"
     ]
    }
   ],
   "source": [
    "faitTout([\"22689\",nameToCode(\"PAPER CHAIN KIT 50'S CHRISTMAS\")])"
   ]
  },
  {
   "cell_type": "code",
   "execution_count": null,
   "metadata": {
    "collapsed": true
   },
   "outputs": [],
   "source": []
  }
 ],
 "metadata": {
  "kernelspec": {
   "display_name": "Python 3",
   "language": "python",
   "name": "python3"
  },
  "language_info": {
   "codemirror_mode": {
    "name": "ipython",
    "version": 3
   },
   "file_extension": ".py",
   "mimetype": "text/x-python",
   "name": "python",
   "nbconvert_exporter": "python",
   "pygments_lexer": "ipython3",
   "version": "3.6.3"
  }
 },
 "nbformat": 4,
 "nbformat_minor": 2
}
