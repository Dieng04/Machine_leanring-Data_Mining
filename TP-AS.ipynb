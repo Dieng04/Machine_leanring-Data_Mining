{
 "cells": [
  {
   "cell_type": "markdown",
   "metadata": {},
   "source": [
    "# TP2-AS"
   ]
  },
  {
   "cell_type": "markdown",
   "metadata": {},
   "source": [
    "03/12/2018            "
   ]
  },
  {
   "cell_type": "code",
   "execution_count": 2,
   "metadata": {
    "collapsed": true
   },
   "outputs": [],
   "source": [
    "import numpy as np \n",
    "np.set_printoptions(threshold=np.nan,suppress=True)\n",
    "import pandas as pd\n",
    "import warnings\n",
    "import matplotlib.pyplot as plt\n",
    "warnings.filterwarnings('ignore') "
   ]
  },
  {
   "cell_type": "markdown",
   "metadata": {},
   "source": [
    "# Chargement des données et préparation"
   ]
  },
  {
   "cell_type": "code",
   "execution_count": 5,
   "metadata": {
    "collapsed": true
   },
   "outputs": [],
   "source": [
    "creditScoring = pd.read_csv(r'credit_scoring.csv',sep=';')\n"
   ]
  },
  {
   "cell_type": "code",
   "execution_count": 117,
   "metadata": {},
   "outputs": [],
   "source": [
    "#Conversion en nympy Array\n",
    "X = creditScoring.ix[:, 1:12].values\n",
    "Y = creditScoring.ix[:, 13].values \n"
   ]
  },
  {
   "cell_type": "code",
   "execution_count": 7,
   "metadata": {},
   "outputs": [
    {
     "data": {
      "text/plain": [
       "4375"
      ]
     },
     "execution_count": 7,
     "metadata": {},
     "output_type": "execute_result"
    }
   ],
   "source": [
    "# Analyser le nombre de variable\n",
    "X.shape[0] #récuperer le nombre de ligne de la base de connaissance"
   ]
  },
  {
   "cell_type": "code",
   "execution_count": 8,
   "metadata": {},
   "outputs": [
    {
     "data": {
      "image/png": "[encoded data removed]",
      "text/plain": [
       "<Figure size 432x288 with 1 Axes>"
      ]
     },
     "metadata": {},
     "output_type": "display_data"
    }
   ],
   "source": [
    "# Nombre d'exemple négatifs et négatifs\n",
    "plt.hist(Y)\n",
    "plt.show()"
   ]
  },
  {
   "cell_type": "code",
   "execution_count": 11,
   "metadata": {},
   "outputs": [
    {
     "data": {
      "text/plain": [
       "2187"
      ]
     },
     "execution_count": 11,
     "metadata": {},
     "output_type": "execute_result"
    }
   ],
   "source": [
    "from sklearn.model_selection import train_test_split\n",
    "X_train, X_test, Y_train, Y_test = train_test_split( X, Y, train_size=0.5)\n",
    "X_train.shape[0]\n"
   ]
  },
  {
   "cell_type": "markdown",
   "metadata": {},
   "source": [
    "# Apprentissage et évaluation de modèles"
   ]
  },
  {
   "cell_type": "code",
   "execution_count": 12,
   "metadata": {},
   "outputs": [
    {
     "data": {
      "text/plain": [
       "KNeighborsClassifier(algorithm='auto', leaf_size=30, metric='minkowski',\n",
       "           metric_params=None, n_jobs=None, n_neighbors=5, p=2,\n",
       "           weights='uniform')"
      ]
     },
     "execution_count": 12,
     "metadata": {},
     "output_type": "execute_result"
    }
   ],
   "source": [
    "#k-plus-proches-voisins avec k=5 \n",
    "from sklearn import neighbors, tree\n",
    "\n",
    "# L'arbre de décision\n",
    "clf = tree.DecisionTreeClassifier(random_state=1)\n",
    "clf.fit(X_train, Y_train)\n",
    "\n",
    "# Knn \n",
    "knn = neighbors.KNeighborsClassifier(n_neighbors=5)\n",
    "knn.fit(X_train, Y_train)\n"
   ]
  },
  {
   "cell_type": "markdown",
   "metadata": {},
   "source": []
  },
  {
   "cell_type": "code",
   "execution_count": 13,
   "metadata": {},
   "outputs": [
    {
     "name": "stdout",
     "output_type": "stream",
     "text": [
      "Accuracy\n",
      "accuracy avec knn: 0.703839\n",
      "accuracy avec clf: 0.696984\n"
     ]
    }
   ],
   "source": [
    "from sklearn.metrics import accuracy_score, recall_score, precision_score, roc_curve\n",
    "\n",
    "PredictKnn = knn.predict(X_test)\n",
    "Predictclf = clf.predict(X_test)\n",
    "\n",
    "print(\"Accuracy\")\n",
    "accuracyknn = accuracy_score(Y_test, PredictKnn) # l'accuracy pour le Knn \n",
    "accuracyclf = accuracy_score(Y_test, Predictclf) #l'accuracy pour l'arbred de décision \n",
    "\n",
    "print('accuracy avec knn: %f' % accuracyknn)\n",
    "print('accuracy avec clf: %f' % accuracyclf)\n"
   ]
  },
  {
   "cell_type": "code",
   "execution_count": 11,
   "metadata": {},
   "outputs": [
    {
     "name": "stdout",
     "output_type": "stream",
     "text": [
      "la précision \n",
      "la précision avec knn: 0.759737\n",
      "la précision avec clf: 0.794889\n"
     ]
    }
   ],
   "source": [
    "print(\"la précision \")\n",
    "precisionKnn  = precision_score(Y_test, PredictKnn)\n",
    "precisionclf =  precision_score(Y_test, Predictclf)\n",
    "\n",
    "print('la précision avec knn: %f' % precisionKnn)\n",
    "print('la précision avec clf: %f' % precisionclf)"
   ]
  },
  {
   "cell_type": "code",
   "execution_count": 14,
   "metadata": {},
   "outputs": [
    {
     "name": "stdout",
     "output_type": "stream",
     "text": [
      "le rappel \n",
      "le rappel avec knn: 0.870394\n",
      "la rappel avec clf: 0.778272\n"
     ]
    }
   ],
   "source": [
    "print(\"le rappel \")\n",
    "RecallKnn  = recall_score(Y_test, PredictKnn)\n",
    "Recallclf =  recall_score(Y_test, Predictclf)\n",
    "\n",
    "print('le rappel avec knn: %f' % RecallKnn)\n",
    "print('la rappel avec clf: %f' % Recallclf)"
   ]
  },
  {
   "cell_type": "code",
   "execution_count": 13,
   "metadata": {
    "collapsed": true
   },
   "outputs": [],
   "source": [
    "#Interprétation \n"
   ]
  },
  {
   "cell_type": "markdown",
   "metadata": {},
   "source": [
    "# Normalisation des variables continues "
   ]
  },
  {
   "cell_type": "code",
   "execution_count": 15,
   "metadata": {
    "collapsed": true
   },
   "outputs": [],
   "source": [
    "from sklearn.preprocessing import StandardScaler, MinMaxScaler\n",
    "\n",
    "#StandardScala\n",
    "std =StandardScaler()\n",
    "std.fit(X_train)\n",
    "X_train_norm = std.transform(X_train)\n",
    "X_test_norm = std.transform(X_test)"
   ]
  },
  {
   "cell_type": "code",
   "execution_count": 16,
   "metadata": {
    "collapsed": true
   },
   "outputs": [],
   "source": [
    "# knn et clf avec les données normalisées StandarScaler\n",
    "\n",
    "#Créer une fonction pour automatiser le traitement\n",
    "def KnnClf(X_train,X_test,Y_train, Y_test):\n",
    "    \n",
    "        # L'arbre de décision\n",
    "    clf = tree.DecisionTreeClassifier(random_state=1)\n",
    "    clf.fit(X_train, Y_train)\n",
    "\n",
    "            # Knn \n",
    "    knn = neighbors.KNeighborsClassifier(n_neighbors=5)\n",
    "    knn.fit(X_train, Y_train)\n",
    "    \n",
    "    #les prédiction sur la base de test\n",
    "    PredictKnn = knn.predict(X_test)\n",
    "    Predictclf = clf.predict(X_test)\n",
    "    \n",
    "    #les accuracy\n",
    "    accuracyknn = accuracy_score(Y_test, PredictKnn) # l'accuracy pour le Knn \n",
    "    accuracyclf = accuracy_score(Y_test, Predictclf) #l'accuracy pour l'arbred de décision \n",
    "    \n",
    "    #La précision\n",
    "    precisionKnn  = precision_score(Y_test, PredictKnn)\n",
    "    precisionclf =  precision_score(Y_test, Predictclf)\n",
    "    \n",
    "    #Le Recall\n",
    "    RecallKnn  = recall_score(Y_test, PredictKnn)\n",
    "    Recallclf =  recall_score(Y_test, Predictclf)\n",
    "    \n",
    "#     scores = [[accuracyknn ,precisionKnn,RecallKnn], [accuracyclf,precisionclf, Recallclf]]\n",
    "    print(\"Knn\")\n",
    "    print('accuracy avec knn: %f' % accuracyknn)\n",
    "    print('la précision avec knn: %f' % precisionKnn)\n",
    "    print('le rappel avec knn: %f' % RecallKnn)\n",
    "    \n",
    "    print(\"CLF\")\n",
    "    print('accuracy avec clf: %f' % accuracyclf)\n",
    "    print('la précision avec clf: %f' % precisionclf)\n",
    "    print('la rappel avec clf: %f' % Recallclf)\n",
    "   \n",
    "    \n",
    "#     plt.hist(scores)\n",
    "#     plt.show()\n",
    "    "
   ]
  },
  {
   "cell_type": "code",
   "execution_count": 17,
   "metadata": {},
   "outputs": [
    {
     "name": "stdout",
     "output_type": "stream",
     "text": [
      "Knn\n",
      "accuracy avec knn: 0.703839\n",
      "la précision avec knn: 0.755237\n",
      "le rappel avec knn: 0.870394\n",
      "CLF\n",
      "accuracy avec clf: 0.696984\n",
      "la précision avec clf: 0.795971\n",
      "la rappel avec clf: 0.778272\n"
     ]
    }
   ],
   "source": [
    "KnnClf(X_train, X_test, Y_train, Y_test)"
   ]
  },
  {
   "cell_type": "code",
   "execution_count": 18,
   "metadata": {},
   "outputs": [
    {
     "name": "stdout",
     "output_type": "stream",
     "text": [
      "StandardScaler\n",
      "Knn\n",
      "accuracy avec knn: 0.749543\n",
      "la précision avec knn: 0.797909\n",
      "le rappel avec knn: 0.872935\n",
      "CLF\n",
      "accuracy avec clf: 0.695155\n",
      "la précision avec clf: 0.795825\n",
      "la rappel avec clf: 0.775095\n"
     ]
    }
   ],
   "source": [
    "# Application des algos sur les données normalisées\n",
    "\n",
    "#Avec StandardScaler\n",
    "print(\"StandardScaler\")\n",
    "KnnClf(X_train_norm, X_test_norm, Y_train, Y_test )\n"
   ]
  },
  {
   "cell_type": "markdown",
   "metadata": {},
   "source": [
    "# 4 Création de nouvelles variables caractéristiques par combinaisons linéaires des variables initiales "
   ]
  },
  {
   "cell_type": "code",
   "execution_count": 19,
   "metadata": {},
   "outputs": [
    {
     "name": "stdout",
     "output_type": "stream",
     "text": [
      "Knn\n",
      "accuracy avec knn: 0.746344\n",
      "la précision avec knn: 0.797431\n",
      "le rappel avec knn: 0.867853\n",
      "CLF\n",
      "accuracy avec clf: 0.717093\n",
      "la précision avec clf: 0.803947\n",
      "la rappel avec clf: 0.802414\n"
     ]
    }
   ],
   "source": [
    "from sklearn.decomposition import PCA\n",
    "\n",
    "pca = PCA(n_components = 3)\n",
    "pca.fit(X_train_norm)\n",
    "\n",
    "X_train_pca = pca.transform(X_train_norm)\n",
    "X_test_pca= pca.transform(X_test_norm)\n",
    "\n",
    "\n",
    "X_train_cont = np.concatenate((X_train_norm,X_train_pca), axis=1)\n",
    "X_test_cont = np.concatenate((X_test_norm,X_test_pca), axis=1)\n",
    "\n",
    "KnnClf(X_train_cont,X_test_cont,Y_train, Y_test)"
   ]
  },
  {
   "cell_type": "markdown",
   "metadata": {},
   "source": [
    "# 5 Sélection de variables"
   ]
  },
  {
   "cell_type": "code",
   "execution_count": 20,
   "metadata": {},
   "outputs": [
    {
     "data": {
      "image/png": "[encoded data removed]",
      "text/plain": [
       "<Figure size 432x288 with 1 Axes>"
      ]
     },
     "metadata": {},
     "output_type": "display_data"
    }
   ],
   "source": [
    "from sklearn.ensemble import RandomForestClassifier\n",
    "clf1 = RandomForestClassifier(n_estimators=100)\n",
    "clf1.fit(X_train_norm, Y_train)\n",
    "importances=clf1.feature_importances_ \n",
    "std = np.std([tree.feature_importances_ for tree in clf1.estimators_],axis=0) \n",
    " \n",
    "sorted_idx = np.argsort(importances)[::-1] \n",
    " \n",
    "features = creditScoring.columns.drop(\"Status\")\n",
    "# print(features[sorted_idx]) \n",
    "\n",
    "padding = np.arange(X_train_norm.size/len(X_train_norm)) + 0.5\n",
    "\n",
    "plt.barh(padding, importances[sorted_idx], xerr=std[sorted_idx], align='center')\n",
    "\n",
    "plt.yticks(padding, features[sorted_idx])\n",
    "plt.xlabel(\"Relative Importance\")\n",
    "plt.title(\"Variable Importance\")\n",
    "plt.show() \n",
    " \n",
    " "
   ]
  },
  {
   "cell_type": "code",
   "execution_count": 21,
   "metadata": {},
   "outputs": [
    {
     "data": {
      "image/png": "[encoded data removed]",
      "text/plain": [
       "<Figure size 432x288 with 1 Axes>"
      ]
     },
     "metadata": {},
     "output_type": "display_data"
    }
   ],
   "source": [
    "# Déterminer ensuite le nombre de variables à garder en exécutant le code suivant \n",
    "\n",
    "KNN=neighbors.KNeighborsClassifier(n_neighbors=5)\n",
    "scores=np.zeros(X_train_norm.shape[1]+1) \n",
    "for f in np.arange(0, X_train_norm.shape[1]+1):\n",
    "    X1_f = X_train_norm[:,sorted_idx[:f+1]]\n",
    "    X2_f = X_test_norm[:,sorted_idx[:f+1]]\n",
    "    KNN.fit(X1_f,Y_train)\n",
    "    YKNN=KNN.predict(X2_f)\n",
    "    scores[f]=np.round(accuracy_score(Y_test,YKNN),3) \n",
    "\n",
    "    \n",
    "plt.plot(scores)\n",
    "plt.xlabel(\"Nombre de Variables\")\n",
    "plt.ylabel(\"Accuracy\")\n",
    "plt.title(\"Evolution de l'accuracy en fonction des variables\")\n",
    "plt.show() "
   ]
  },
  {
   "cell_type": "markdown",
   "metadata": {
    "collapsed": true
   },
   "source": [
    "# 6. Paramétrage des classifieurs "
   ]
  },
  {
   "cell_type": "code",
   "execution_count": 22,
   "metadata": {},
   "outputs": [
    {
     "name": "stdout",
     "output_type": "stream",
     "text": [
      "{'n_neighbors': 9}\n",
      "{'criterion': 'entropy', 'max_depth': 10}\n"
     ]
    }
   ],
   "source": [
    "from sklearn.model_selection import GridSearchCV\n",
    "\n",
    "parameters1 = {'n_neighbors':[4,5,6,8,9]}\n",
    "knn = neighbors.KNeighborsClassifier()\n",
    "GS1 = GridSearchCV(knn, parameters1, scoring='accuracy', cv=10) #GS1 est le GridSearchCV applique le knn\n",
    "GS1.fit( X_train_norm, Y_train)\n",
    "print(GS1.best_params_)\n",
    "\n",
    "\n",
    "# pour le decision tree\n",
    "parameters2= {'criterion':['gini', 'entropy'], 'max_depth':[10]}\n",
    "clf = tree.DecisionTreeClassifier(random_state=1)\n",
    "GS2 =  GridSearchCV(clf, parameters2, scoring='accuracy', cv=10) #GS1 est le GridSearchCV applique le decision tree\n",
    "GS2.fit(X_train_norm, Y_train)\n",
    "\n",
    "#Afficher les meilleurs parametre pour chaque  classifieur\n",
    "print(GS2.best_params_)\n",
    "\n",
    "\n"
   ]
  },
  {
   "cell_type": "code",
   "execution_count": 23,
   "metadata": {},
   "outputs": [
    {
     "name": "stdout",
     "output_type": "stream",
     "text": [
      "accuracy avec knn: 0.884371\n",
      "accuracy avec clf: 0.845616\n"
     ]
    }
   ],
   "source": [
    "# Afficher les accuracy de GridSearch (GS1, et GS2)\n",
    "predictGS1 = GS1.predict(X_test_norm)\n",
    "accuracyGS1 = recall_score(Y_test, predictGS1)\n",
    "print('accuracy avec knn: %f' %  + accuracyGS1)\n",
    "\n",
    "predictGS2 = GS2.predict(X_test_norm)\n",
    "accuracyGS2 = recall_score(Y_test, predictGS2)\n",
    "print('accuracy avec clf: %f' %  + accuracyGS2)\n"
   ]
  },
  {
   "cell_type": "markdown",
   "metadata": {},
   "source": [
    "# 7 Création d’un pipeline"
   ]
  },
  {
   "cell_type": "code",
   "execution_count": 24,
   "metadata": {
    "collapsed": true
   },
   "outputs": [],
   "source": [
    "from sklearn.neighbors import KNeighborsClassifier\n",
    "from sklearn.tree import DecisionTreeClassifier\n",
    "from sklearn.pipeline import Pipeline, FeatureUnion\n",
    "normalistaion =StandardScaler()\n",
    "\n",
    "#pipeline pour l'automatisatio du traitement\n",
    "pipeline = Pipeline([('normalistaion', StandardScaler()),\n",
    "                     (\"PCA\",FeatureUnion([(\"F2\",PCA(n_components=3))])),\n",
    "                     (\"Knn\", KNeighborsClassifier(n_neighbors =9))])\n",
    "pipeline.fit(X_train, Y_train)\n",
    "\n",
    "predict1 = pipeline.predict(X_test)\n",
    "\n",
    "pipeline2 = Pipeline([('normalistaion', StandardScaler()),\n",
    "                     (\"PCA\",FeatureUnion([(\"F2\",PCA(n_components=3))])),\n",
    "                     (\"clf\", DecisionTreeClassifier(max_depth=10, random_state=1) )])\n",
    "pipeline2.fit(X_train, Y_train)\n",
    "\n",
    "predict2 = pipeline2.predict(X_test)\n"
   ]
  },
  {
   "cell_type": "markdown",
   "metadata": {},
   "source": [
    "# 8. Comparaison de plusieurs algorithmes d’apprentissage "
   ]
  },
  {
   "cell_type": "code",
   "execution_count": 83,
   "metadata": {
    "collapsed": true
   },
   "outputs": [],
   "source": [
    "from sklearn.ensemble import RandomForestClassifier\n",
    "from sklearn.naive_bayes import GaussianNB\n",
    "from sklearn.model_selection import KFold\n",
    "from sklearn.model_selection import cross_val_score\n",
    "\n",
    "#Ici nous allons tester 4 algorithmes de classififcation\n",
    "def run_classifier(X_train_norm, Y_train):\n",
    "    clfs = {    \n",
    "        'RF': RandomForestClassifier(n_estimators=50), \n",
    "        'KNN': KNeighborsClassifier(n_neighbors=9),\n",
    "        'clf': DecisionTreeClassifier(max_depth=10, random_state=1),\n",
    "        'gnb': GaussianNB()\n",
    "         } \n",
    "    kf = KFold(n_splits=10, shuffle=True, random_state=0)\n",
    "    \n",
    "    for i in clfs: \n",
    "        clf = clfs[i] \n",
    "        cv_acc = cross_val_score(clf, X_train_norm, Y_train, cv=kf, scoring='roc_auc') \n",
    "        print(\"L'auc for {0} is: {1:.3f} +/- {2:.3f}\".format(i, np.mean(cv_acc), np.std(cv_acc))) \n"
   ]
  },
  {
   "cell_type": "code",
   "execution_count": null,
   "metadata": {},
   "outputs": [],
   "source": []
  },
  {
   "cell_type": "markdown",
   "metadata": {},
   "source": [
    "# II. Apprentissage supervisé : Données hétérogènes "
   ]
  },
  {
   "cell_type": "markdown",
   "metadata": {},
   "source": [
    "                        1 Chargement des données et préparation "
   ]
  },
  {
   "cell_type": "code",
   "execution_count": 27,
   "metadata": {},
   "outputs": [
    {
     "data": {
      "text/html": [
       "<div>\n",
       "<style>\n",
       "    .dataframe thead tr:only-child th {\n",
       "        text-align: right;\n",
       "    }\n",
       "\n",
       "    .dataframe thead th {\n",
       "        text-align: left;\n",
       "    }\n",
       "\n",
       "    .dataframe tbody tr th {\n",
       "        vertical-align: top;\n",
       "    }\n",
       "</style>\n",
       "<table border=\"1\" class=\"dataframe\">\n",
       "  <thead>\n",
       "    <tr style=\"text-align: right;\">\n",
       "      <th></th>\n",
       "      <th>0</th>\n",
       "      <th>1</th>\n",
       "      <th>2</th>\n",
       "      <th>3</th>\n",
       "      <th>4</th>\n",
       "      <th>5</th>\n",
       "      <th>6</th>\n",
       "      <th>7</th>\n",
       "      <th>8</th>\n",
       "      <th>9</th>\n",
       "      <th>10</th>\n",
       "      <th>11</th>\n",
       "      <th>12</th>\n",
       "      <th>13</th>\n",
       "      <th>14</th>\n",
       "      <th>15</th>\n",
       "    </tr>\n",
       "  </thead>\n",
       "  <tbody>\n",
       "    <tr>\n",
       "      <th>0</th>\n",
       "      <td>b</td>\n",
       "      <td>30.83</td>\n",
       "      <td>0.000</td>\n",
       "      <td>u</td>\n",
       "      <td>g</td>\n",
       "      <td>w</td>\n",
       "      <td>v</td>\n",
       "      <td>1.250</td>\n",
       "      <td>t</td>\n",
       "      <td>t</td>\n",
       "      <td>1</td>\n",
       "      <td>f</td>\n",
       "      <td>g</td>\n",
       "      <td>202</td>\n",
       "      <td>0</td>\n",
       "      <td>+</td>\n",
       "    </tr>\n",
       "    <tr>\n",
       "      <th>1</th>\n",
       "      <td>a</td>\n",
       "      <td>58.67</td>\n",
       "      <td>4.460</td>\n",
       "      <td>u</td>\n",
       "      <td>g</td>\n",
       "      <td>q</td>\n",
       "      <td>h</td>\n",
       "      <td>3.040</td>\n",
       "      <td>t</td>\n",
       "      <td>t</td>\n",
       "      <td>6</td>\n",
       "      <td>f</td>\n",
       "      <td>g</td>\n",
       "      <td>43</td>\n",
       "      <td>560</td>\n",
       "      <td>+</td>\n",
       "    </tr>\n",
       "    <tr>\n",
       "      <th>2</th>\n",
       "      <td>a</td>\n",
       "      <td>24.50</td>\n",
       "      <td>0.500</td>\n",
       "      <td>u</td>\n",
       "      <td>g</td>\n",
       "      <td>q</td>\n",
       "      <td>h</td>\n",
       "      <td>1.500</td>\n",
       "      <td>t</td>\n",
       "      <td>f</td>\n",
       "      <td>0</td>\n",
       "      <td>f</td>\n",
       "      <td>g</td>\n",
       "      <td>280</td>\n",
       "      <td>824</td>\n",
       "      <td>+</td>\n",
       "    </tr>\n",
       "    <tr>\n",
       "      <th>3</th>\n",
       "      <td>b</td>\n",
       "      <td>27.83</td>\n",
       "      <td>1.540</td>\n",
       "      <td>u</td>\n",
       "      <td>g</td>\n",
       "      <td>w</td>\n",
       "      <td>v</td>\n",
       "      <td>3.750</td>\n",
       "      <td>t</td>\n",
       "      <td>t</td>\n",
       "      <td>5</td>\n",
       "      <td>t</td>\n",
       "      <td>g</td>\n",
       "      <td>100</td>\n",
       "      <td>3</td>\n",
       "      <td>+</td>\n",
       "    </tr>\n",
       "    <tr>\n",
       "      <th>4</th>\n",
       "      <td>b</td>\n",
       "      <td>20.17</td>\n",
       "      <td>5.625</td>\n",
       "      <td>u</td>\n",
       "      <td>g</td>\n",
       "      <td>w</td>\n",
       "      <td>v</td>\n",
       "      <td>1.710</td>\n",
       "      <td>t</td>\n",
       "      <td>f</td>\n",
       "      <td>0</td>\n",
       "      <td>f</td>\n",
       "      <td>s</td>\n",
       "      <td>120</td>\n",
       "      <td>0</td>\n",
       "      <td>+</td>\n",
       "    </tr>\n",
       "    <tr>\n",
       "      <th>5</th>\n",
       "      <td>b</td>\n",
       "      <td>32.08</td>\n",
       "      <td>4.000</td>\n",
       "      <td>u</td>\n",
       "      <td>g</td>\n",
       "      <td>m</td>\n",
       "      <td>v</td>\n",
       "      <td>2.500</td>\n",
       "      <td>t</td>\n",
       "      <td>f</td>\n",
       "      <td>0</td>\n",
       "      <td>t</td>\n",
       "      <td>g</td>\n",
       "      <td>360</td>\n",
       "      <td>0</td>\n",
       "      <td>+</td>\n",
       "    </tr>\n",
       "    <tr>\n",
       "      <th>6</th>\n",
       "      <td>b</td>\n",
       "      <td>33.17</td>\n",
       "      <td>1.040</td>\n",
       "      <td>u</td>\n",
       "      <td>g</td>\n",
       "      <td>r</td>\n",
       "      <td>h</td>\n",
       "      <td>6.500</td>\n",
       "      <td>t</td>\n",
       "      <td>f</td>\n",
       "      <td>0</td>\n",
       "      <td>t</td>\n",
       "      <td>g</td>\n",
       "      <td>164</td>\n",
       "      <td>31285</td>\n",
       "      <td>+</td>\n",
       "    </tr>\n",
       "    <tr>\n",
       "      <th>7</th>\n",
       "      <td>a</td>\n",
       "      <td>22.92</td>\n",
       "      <td>11.585</td>\n",
       "      <td>u</td>\n",
       "      <td>g</td>\n",
       "      <td>cc</td>\n",
       "      <td>v</td>\n",
       "      <td>0.040</td>\n",
       "      <td>t</td>\n",
       "      <td>f</td>\n",
       "      <td>0</td>\n",
       "      <td>f</td>\n",
       "      <td>g</td>\n",
       "      <td>80</td>\n",
       "      <td>1349</td>\n",
       "      <td>+</td>\n",
       "    </tr>\n",
       "    <tr>\n",
       "      <th>8</th>\n",
       "      <td>b</td>\n",
       "      <td>54.42</td>\n",
       "      <td>0.500</td>\n",
       "      <td>y</td>\n",
       "      <td>p</td>\n",
       "      <td>k</td>\n",
       "      <td>h</td>\n",
       "      <td>3.960</td>\n",
       "      <td>t</td>\n",
       "      <td>f</td>\n",
       "      <td>0</td>\n",
       "      <td>f</td>\n",
       "      <td>g</td>\n",
       "      <td>180</td>\n",
       "      <td>314</td>\n",
       "      <td>+</td>\n",
       "    </tr>\n",
       "    <tr>\n",
       "      <th>9</th>\n",
       "      <td>b</td>\n",
       "      <td>42.50</td>\n",
       "      <td>4.915</td>\n",
       "      <td>y</td>\n",
       "      <td>p</td>\n",
       "      <td>w</td>\n",
       "      <td>v</td>\n",
       "      <td>3.165</td>\n",
       "      <td>t</td>\n",
       "      <td>f</td>\n",
       "      <td>0</td>\n",
       "      <td>t</td>\n",
       "      <td>g</td>\n",
       "      <td>52</td>\n",
       "      <td>1442</td>\n",
       "      <td>+</td>\n",
       "    </tr>\n",
       "    <tr>\n",
       "      <th>10</th>\n",
       "      <td>b</td>\n",
       "      <td>22.08</td>\n",
       "      <td>0.830</td>\n",
       "      <td>u</td>\n",
       "      <td>g</td>\n",
       "      <td>c</td>\n",
       "      <td>h</td>\n",
       "      <td>2.165</td>\n",
       "      <td>f</td>\n",
       "      <td>f</td>\n",
       "      <td>0</td>\n",
       "      <td>t</td>\n",
       "      <td>g</td>\n",
       "      <td>128</td>\n",
       "      <td>0</td>\n",
       "      <td>+</td>\n",
       "    </tr>\n",
       "    <tr>\n",
       "      <th>11</th>\n",
       "      <td>b</td>\n",
       "      <td>29.92</td>\n",
       "      <td>1.835</td>\n",
       "      <td>u</td>\n",
       "      <td>g</td>\n",
       "      <td>c</td>\n",
       "      <td>h</td>\n",
       "      <td>4.335</td>\n",
       "      <td>t</td>\n",
       "      <td>f</td>\n",
       "      <td>0</td>\n",
       "      <td>f</td>\n",
       "      <td>g</td>\n",
       "      <td>260</td>\n",
       "      <td>200</td>\n",
       "      <td>+</td>\n",
       "    </tr>\n",
       "    <tr>\n",
       "      <th>12</th>\n",
       "      <td>a</td>\n",
       "      <td>38.25</td>\n",
       "      <td>6.000</td>\n",
       "      <td>u</td>\n",
       "      <td>g</td>\n",
       "      <td>k</td>\n",
       "      <td>v</td>\n",
       "      <td>1.000</td>\n",
       "      <td>t</td>\n",
       "      <td>f</td>\n",
       "      <td>0</td>\n",
       "      <td>t</td>\n",
       "      <td>g</td>\n",
       "      <td>0</td>\n",
       "      <td>0</td>\n",
       "      <td>+</td>\n",
       "    </tr>\n",
       "    <tr>\n",
       "      <th>13</th>\n",
       "      <td>b</td>\n",
       "      <td>48.08</td>\n",
       "      <td>6.040</td>\n",
       "      <td>u</td>\n",
       "      <td>g</td>\n",
       "      <td>k</td>\n",
       "      <td>v</td>\n",
       "      <td>0.040</td>\n",
       "      <td>f</td>\n",
       "      <td>f</td>\n",
       "      <td>0</td>\n",
       "      <td>f</td>\n",
       "      <td>g</td>\n",
       "      <td>0</td>\n",
       "      <td>2690</td>\n",
       "      <td>+</td>\n",
       "    </tr>\n",
       "    <tr>\n",
       "      <th>14</th>\n",
       "      <td>a</td>\n",
       "      <td>45.83</td>\n",
       "      <td>10.500</td>\n",
       "      <td>u</td>\n",
       "      <td>g</td>\n",
       "      <td>q</td>\n",
       "      <td>v</td>\n",
       "      <td>5.000</td>\n",
       "      <td>t</td>\n",
       "      <td>t</td>\n",
       "      <td>7</td>\n",
       "      <td>t</td>\n",
       "      <td>g</td>\n",
       "      <td>0</td>\n",
       "      <td>0</td>\n",
       "      <td>+</td>\n",
       "    </tr>\n",
       "    <tr>\n",
       "      <th>15</th>\n",
       "      <td>b</td>\n",
       "      <td>36.67</td>\n",
       "      <td>4.415</td>\n",
       "      <td>y</td>\n",
       "      <td>p</td>\n",
       "      <td>k</td>\n",
       "      <td>v</td>\n",
       "      <td>0.250</td>\n",
       "      <td>t</td>\n",
       "      <td>t</td>\n",
       "      <td>10</td>\n",
       "      <td>t</td>\n",
       "      <td>g</td>\n",
       "      <td>320</td>\n",
       "      <td>0</td>\n",
       "      <td>+</td>\n",
       "    </tr>\n",
       "    <tr>\n",
       "      <th>16</th>\n",
       "      <td>b</td>\n",
       "      <td>28.25</td>\n",
       "      <td>0.875</td>\n",
       "      <td>u</td>\n",
       "      <td>g</td>\n",
       "      <td>m</td>\n",
       "      <td>v</td>\n",
       "      <td>0.960</td>\n",
       "      <td>t</td>\n",
       "      <td>t</td>\n",
       "      <td>3</td>\n",
       "      <td>t</td>\n",
       "      <td>g</td>\n",
       "      <td>396</td>\n",
       "      <td>0</td>\n",
       "      <td>+</td>\n",
       "    </tr>\n",
       "    <tr>\n",
       "      <th>17</th>\n",
       "      <td>a</td>\n",
       "      <td>23.25</td>\n",
       "      <td>5.875</td>\n",
       "      <td>u</td>\n",
       "      <td>g</td>\n",
       "      <td>q</td>\n",
       "      <td>v</td>\n",
       "      <td>3.170</td>\n",
       "      <td>t</td>\n",
       "      <td>t</td>\n",
       "      <td>10</td>\n",
       "      <td>f</td>\n",
       "      <td>g</td>\n",
       "      <td>120</td>\n",
       "      <td>245</td>\n",
       "      <td>+</td>\n",
       "    </tr>\n",
       "    <tr>\n",
       "      <th>18</th>\n",
       "      <td>b</td>\n",
       "      <td>21.83</td>\n",
       "      <td>0.250</td>\n",
       "      <td>u</td>\n",
       "      <td>g</td>\n",
       "      <td>d</td>\n",
       "      <td>h</td>\n",
       "      <td>0.665</td>\n",
       "      <td>t</td>\n",
       "      <td>f</td>\n",
       "      <td>0</td>\n",
       "      <td>t</td>\n",
       "      <td>g</td>\n",
       "      <td>0</td>\n",
       "      <td>0</td>\n",
       "      <td>+</td>\n",
       "    </tr>\n",
       "    <tr>\n",
       "      <th>19</th>\n",
       "      <td>a</td>\n",
       "      <td>19.17</td>\n",
       "      <td>8.585</td>\n",
       "      <td>u</td>\n",
       "      <td>g</td>\n",
       "      <td>cc</td>\n",
       "      <td>h</td>\n",
       "      <td>0.750</td>\n",
       "      <td>t</td>\n",
       "      <td>t</td>\n",
       "      <td>7</td>\n",
       "      <td>f</td>\n",
       "      <td>g</td>\n",
       "      <td>96</td>\n",
       "      <td>0</td>\n",
       "      <td>+</td>\n",
       "    </tr>\n",
       "  </tbody>\n",
       "</table>\n",
       "</div>"
      ],
      "text/plain": [
       "   0      1       2  3  4   5  6      7  8  9   10 11 12   13     14 15\n",
       "0   b  30.83   0.000  u  g   w  v  1.250  t  t   1  f  g  202      0  +\n",
       "1   a  58.67   4.460  u  g   q  h  3.040  t  t   6  f  g   43    560  +\n",
       "2   a  24.50   0.500  u  g   q  h  1.500  t  f   0  f  g  280    824  +\n",
       "3   b  27.83   1.540  u  g   w  v  3.750  t  t   5  t  g  100      3  +\n",
       "4   b  20.17   5.625  u  g   w  v  1.710  t  f   0  f  s  120      0  +\n",
       "5   b  32.08   4.000  u  g   m  v  2.500  t  f   0  t  g  360      0  +\n",
       "6   b  33.17   1.040  u  g   r  h  6.500  t  f   0  t  g  164  31285  +\n",
       "7   a  22.92  11.585  u  g  cc  v  0.040  t  f   0  f  g   80   1349  +\n",
       "8   b  54.42   0.500  y  p   k  h  3.960  t  f   0  f  g  180    314  +\n",
       "9   b  42.50   4.915  y  p   w  v  3.165  t  f   0  t  g   52   1442  +\n",
       "10  b  22.08   0.830  u  g   c  h  2.165  f  f   0  t  g  128      0  +\n",
       "11  b  29.92   1.835  u  g   c  h  4.335  t  f   0  f  g  260    200  +\n",
       "12  a  38.25   6.000  u  g   k  v  1.000  t  f   0  t  g    0      0  +\n",
       "13  b  48.08   6.040  u  g   k  v  0.040  f  f   0  f  g    0   2690  +\n",
       "14  a  45.83  10.500  u  g   q  v  5.000  t  t   7  t  g    0      0  +\n",
       "15  b  36.67   4.415  y  p   k  v  0.250  t  t  10  t  g  320      0  +\n",
       "16  b  28.25   0.875  u  g   m  v  0.960  t  t   3  t  g  396      0  +\n",
       "17  a  23.25   5.875  u  g   q  v  3.170  t  t  10  f  g  120    245  +\n",
       "18  b  21.83   0.250  u  g   d  h  0.665  t  f   0  t  g    0      0  +\n",
       "19  a  19.17   8.585  u  g  cc  h  0.750  t  t   7  f  g   96      0  +"
      ]
     },
     "execution_count": 27,
     "metadata": {},
     "output_type": "execute_result"
    }
   ],
   "source": [
    "#Récupération des données de credit.data\n",
    "data = pd.read_csv('credit.data',sep=\"\\t\", header=None )\n",
    "\n",
    "data.head(20) # Afficher 20 ligne pour annalyser la structure des données"
   ]
  },
  {
   "cell_type": "code",
   "execution_count": 29,
   "metadata": {},
   "outputs": [
    {
     "data": {
      "text/plain": [
       "(653, 16)"
      ]
     },
     "execution_count": 29,
     "metadata": {},
     "output_type": "execute_result"
    }
   ],
   "source": [
    "Clean_data = data.ix[:,0:15].replace('?', np.NAN)\n",
    "#Supprimer les lignes contenant des données manquantes\n",
    "Clean_data.dropna(inplace=True)\n",
    "Clean_data.shape"
   ]
  },
  {
   "cell_type": "code",
   "execution_count": 116,
   "metadata": {},
   "outputs": [],
   "source": [
    "#choisir les variables numériques\n",
    "col_num =[1,2,10,13,14]\n",
    "X_num =np.copy(Clean_data.ix[:, col_num].values)\n"
   ]
  },
  {
   "cell_type": "code",
   "execution_count": 115,
   "metadata": {},
   "outputs": [],
   "source": [
    "# Cinversion et sépartion des variables\n",
    "Y_data = Clean_data.ix[:, 15].values\n",
    "X_num = X_num.astype(float)\n",
    "#binerisation\n",
    "Y_num= [1 if y==\"+\"  else 0 for y in Y_data]\n",
    "\n",
    "\n"
   ]
  },
  {
   "cell_type": "code",
   "execution_count": 84,
   "metadata": {},
   "outputs": [
    {
     "name": "stdout",
     "output_type": "stream",
     "text": [
      "L'auc for RF is: 0.811 +/- 0.072\n",
      "L'auc for KNN is: 0.726 +/- 0.058\n",
      "L'auc for clf is: 0.709 +/- 0.066\n",
      "L'auc for gnb is: 0.781 +/- 0.070\n"
     ]
    }
   ],
   "source": [
    "#Test sur les données brutes\n",
    "run_classifier(X_num, Y_num)"
   ]
  },
  {
   "cell_type": "code",
   "execution_count": 85,
   "metadata": {},
   "outputs": [
    {
     "name": "stdout",
     "output_type": "stream",
     "text": [
      "L'auc for RF is: 0.794 +/- 0.071\n",
      "L'auc for KNN is: 0.726 +/- 0.058\n",
      "L'auc for clf is: 0.709 +/- 0.066\n",
      "L'auc for gnb is: 0.781 +/- 0.070\n"
     ]
    }
   ],
   "source": [
    "run_classifier(X_num, Y_num)"
   ]
  },
  {
   "cell_type": "code",
   "execution_count": 34,
   "metadata": {
    "collapsed": true
   },
   "outputs": [],
   "source": [
    "# Normalisation des données\n",
    "def normalisation1(X):\n",
    "    std =StandardScaler()\n",
    "    std.fit(X)\n",
    "    X_norm = std.transform(X)\n",
    "    \n",
    "    return X_norm\n"
   ]
  },
  {
   "cell_type": "code",
   "execution_count": 86,
   "metadata": {},
   "outputs": [
    {
     "name": "stdout",
     "output_type": "stream",
     "text": [
      "L'auc for RF is: 0.800 +/- 0.069\n",
      "L'auc for KNN is: 0.792 +/- 0.062\n",
      "L'auc for clf is: 0.709 +/- 0.066\n",
      "L'auc for gnb is: 0.781 +/- 0.070\n"
     ]
    }
   ],
   "source": [
    "# Test sur les données normalisées\n",
    "X_num_norm = normalisation1(X_num)\n",
    "run_classifier(X_num_norm, Y_num)"
   ]
  },
  {
   "cell_type": "markdown",
   "metadata": {
    "collapsed": true
   },
   "source": [
    " Nous avons constaté une augmentation des accuracy de chaque modèle après avoir normalisé les données. Donc les données normalisées permttent d'avoir de bonne prédiction."
   ]
  },
  {
   "cell_type": "markdown",
   "metadata": {},
   "source": [
    "    2-Nous allons maintenant considérer la totalité de la base originale comportant les 15 variables continues et catégorielles  mais aussi les données manquantes"
   ]
  },
  {
   "cell_type": "code",
   "execution_count": 114,
   "metadata": {},
   "outputs": [],
   "source": [
    "# Inputation d'une variable\n",
    "from sklearn.preprocessing import Imputer, OneHotEncoder\n",
    "col_cat = [0,3,4,5,6,7,8,9,11,12]\n",
    "X_cat = np.copy(data.ix[:,col_cat ])\n",
    "for col_id in range(len(col_cat)):\n",
    "    unique_val, val_idx = np.unique(X_cat[:, col_id], return_inverse=True)\n",
    "    X_cat[:, col_id] = val_idx \n",
    "\n",
    "imp_cat = Imputer(missing_values=0, strategy='most_frequent')\n",
    "X_cat[:, range(5)] = imp_cat.fit_transform(X_cat[:, range(5)])\n",
    "\n"
   ]
  },
  {
   "cell_type": "code",
   "execution_count": 37,
   "metadata": {
    "collapsed": true
   },
   "outputs": [],
   "source": [
    "#Traitement de variables catégorielles \n",
    "X_cat_bin = OneHotEncoder().fit_transform(X_cat).toarray() \n"
   ]
  },
  {
   "cell_type": "code",
   "execution_count": 113,
   "metadata": {},
   "outputs": [],
   "source": [
    "#Pour les variables numériques\n",
    "X_num2 = np.copy(data.ix[:, col_num])\n",
    "X_num2[X_num2 == '?'] = np.nan\n",
    "X_num2 = X_num2.astype(float) \n",
    "imp_num2 = Imputer(missing_values=np.nan, strategy='mean')\n",
    "X_num2 = imp_num2.fit_transform(X_num2) \n"
   ]
  },
  {
   "cell_type": "code",
   "execution_count": 39,
   "metadata": {
    "collapsed": true
   },
   "outputs": [],
   "source": [
    "#Normaliser les données numériques\n",
    "X_num2 =  normalisation1(X_num2)\n",
    "#concaténation des données \n",
    "X_cont = np.concatenate((X_num2,X_cat), axis=1)\n"
   ]
  },
  {
   "cell_type": "code",
   "execution_count": 42,
   "metadata": {
    "collapsed": true
   },
   "outputs": [],
   "source": [
    "# Récupération  et transformation de la variable expliquée\n",
    "Y_data = data.ix[:, 15].values\n",
    "#binerisation\n",
    "Y_data= [1 if y==\"+\"  else 0 for y in Y_data]\n",
    "\n"
   ]
  },
  {
   "cell_type": "code",
   "execution_count": 87,
   "metadata": {},
   "outputs": [
    {
     "name": "stdout",
     "output_type": "stream",
     "text": [
      "L'auc for RF is: 0.933 +/- 0.028\n",
      "L'auc for KNN is: 0.777 +/- 0.073\n",
      "L'auc for clf is: 0.802 +/- 0.052\n",
      "L'auc for gnb is: 0.899 +/- 0.037\n"
     ]
    }
   ],
   "source": [
    "# Aprés la concaténation nous allons lancer de nouveau la fo,ction run_classifier\n",
    "run_classifier(X_cont, Y_data)\n"
   ]
  },
  {
   "cell_type": "code",
   "execution_count": null,
   "metadata": {
    "collapsed": true
   },
   "outputs": [],
   "source": [
    "#Il y avait bel et bien une perte d'informations.\n",
    "#La prouve: en comparant les deux resultats, nous avons remarqué une augmentation des  accuracy de chaque modèle."
   ]
  },
  {
   "cell_type": "markdown",
   "metadata": {},
   "source": [
    "# III. Apprentissage supervisé sur des données textuelles : Feature engineering et Classification "
   ]
  },
  {
   "cell_type": "code",
   "execution_count": 54,
   "metadata": {},
   "outputs": [
    {
     "data": {
      "text/plain": [
       "(5572, 2)"
      ]
     },
     "execution_count": 54,
     "metadata": {},
     "output_type": "execute_result"
    }
   ],
   "source": [
    "# load data \n",
    "SMSSpamCollection= pd.read_csv('SMSSpamCollection.data', error_bad_lines=False, sep=\"\\t\", header=None)\n",
    "SMSSpamCollection.shape\n"
   ]
  },
  {
   "cell_type": "code",
   "execution_count": 112,
   "metadata": {},
   "outputs": [],
   "source": [
    "sms = SMSSpamCollection.ix[:,1].values\n",
    "spam = SMSSpamCollection.ix[:,0].values\n",
    "spam_num  =  [1 if y==\"spam\"  else 0 for y in spam]\n"
   ]
  },
  {
   "cell_type": "markdown",
   "metadata": {},
   "source": [
    "           CountVectorize"
   ]
  },
  {
   "cell_type": "code",
   "execution_count": 56,
   "metadata": {},
   "outputs": [
    {
     "data": {
      "text/plain": [
       "(5572, 8444)"
      ]
     },
     "execution_count": 56,
     "metadata": {},
     "output_type": "execute_result"
    }
   ],
   "source": [
    "from sklearn.feature_extraction.text import CountVectorizer\n",
    "vectorizer = CountVectorizer(stop_words = 'english')\n",
    "X = vectorizer.fit_transform(sms)\n",
    "#print(vectorizer.get_feature_names())\n",
    "X_vector = X.toarray()\n",
    "X_vector.shape"
   ]
  },
  {
   "cell_type": "code",
   "execution_count": 88,
   "metadata": {},
   "outputs": [
    {
     "name": "stdout",
     "output_type": "stream",
     "text": [
      "L'auc for RF is: 0.989 +/- 0.005\n",
      "L'auc for KNN is: 0.838 +/- 0.034\n",
      "L'auc for clf is: 0.853 +/- 0.027\n",
      "L'auc for gnb is: 0.897 +/- 0.017\n"
     ]
    }
   ],
   "source": [
    "# test countvector sur run_classifier\n",
    "run_classifier(X_vector, spam_num)"
   ]
  },
  {
   "cell_type": "markdown",
   "metadata": {},
   "source": [
    "                                Tf–idf term weighting"
   ]
  },
  {
   "cell_type": "code",
   "execution_count": 57,
   "metadata": {},
   "outputs": [
    {
     "data": {
      "text/plain": [
       "(5572, 8444)"
      ]
     },
     "execution_count": 57,
     "metadata": {},
     "output_type": "execute_result"
    }
   ],
   "source": [
    "from sklearn.feature_extraction.text import TfidfVectorizer\n",
    "tfid = TfidfVectorizer(stop_words = 'english')\n",
    "X1 = tfid.fit_transform(sms)\n",
    "X_tfid = X1.toarray()\n",
    "X_tfid.shape"
   ]
  },
  {
   "cell_type": "code",
   "execution_count": 90,
   "metadata": {},
   "outputs": [
    {
     "name": "stdout",
     "output_type": "stream",
     "text": [
      "L'auc for RF is: 0.991 +/- 0.004\n",
      "L'auc for KNN is: 0.808 +/- 0.031\n",
      "L'auc for clf is: 0.845 +/- 0.028\n",
      "L'auc for gnb is: 0.885 +/- 0.017\n"
     ]
    }
   ],
   "source": [
    "run_classifier(X_tfid, spam_num)"
   ]
  },
  {
   "cell_type": "code",
   "execution_count": 60,
   "metadata": {},
   "outputs": [
    {
     "data": {
      "text/plain": [
       "(5572, 1000)"
      ]
     },
     "execution_count": 60,
     "metadata": {},
     "output_type": "execute_result"
    }
   ],
   "source": [
    "from sklearn.decomposition import TruncatedSVD\n",
    "svd = TruncatedSVD(n_components = 1000) #la somme des ratio  pour n_components = 1000 est 71%\n",
    "X_svd_tfid= svd.fit_transform(X_tfid)\n",
    "X_svd_countvector =svd.fit_transform(X_vector)\n",
    "X_svd_countvector.shape"
   ]
  },
  {
   "cell_type": "code",
   "execution_count": 91,
   "metadata": {},
   "outputs": [
    {
     "name": "stdout",
     "output_type": "stream",
     "text": [
      "sur CountVectorizer \n",
      "L'auc for RF is: 0.979 +/- 0.007\n",
      "L'auc for KNN is: 0.893 +/- 0.021\n",
      "L'auc for clf is: 0.869 +/- 0.044\n",
      "L'auc for gnb is: 0.862 +/- 0.011\n",
      "sur TfidfVectorizer \n",
      "L'auc for RF is: 0.975 +/- 0.012\n",
      "L'auc for KNN is: 0.881 +/- 0.029\n",
      "L'auc for clf is: 0.868 +/- 0.030\n",
      "L'auc for gnb is: 0.915 +/- 0.018\n"
     ]
    }
   ],
   "source": [
    "# test svd\n",
    "#1 sur countvector\n",
    "print(\"sur CountVectorizer \")\n",
    "\n",
    "run_classifier(X_svd_countvector, spam_num)\n",
    "\n",
    "print(\"sur TfidfVectorizer \")\n",
    "run_classifier(X_svd_tfid, spam_num)\n"
   ]
  },
  {
   "cell_type": "code",
   "execution_count": 92,
   "metadata": {},
   "outputs": [],
   "source": [
    "# Pipeline\n",
    "def pipeline(X,Y):\n",
    "    print('Countvector')\n",
    "    pipeline1 = Pipeline([('Countvector', CountVectorizer(stop_words = 'english')),\n",
    "                            (\"svd\", TruncatedSVD(n_components = 1000))])    \n",
    "    X1= pipeline1.fit_transform(X)\n",
    "    run_classifier(X1,Y)\n",
    "    print('TfidfVectorize')\n",
    "    pipeline2 = Pipeline([('tfid',TfidfVectorizer(stop_words = 'english')),\n",
    "                             (\"svd\", TruncatedSVD(n_components = 1000))])\n",
    "    X2= pipeline2.fit_transform(X)\n",
    "    run_classifier(X2,Y)\n"
   ]
  },
  {
   "cell_type": "code",
   "execution_count": 93,
   "metadata": {},
   "outputs": [
    {
     "name": "stdout",
     "output_type": "stream",
     "text": [
      "Countvector\n",
      "L'auc for RF is: 0.981 +/- 0.007\n",
      "L'auc for KNN is: 0.892 +/- 0.023\n",
      "L'auc for clf is: 0.871 +/- 0.039\n",
      "L'auc for gnb is: 0.863 +/- 0.010\n",
      "TfidfVectorize\n",
      "L'auc for RF is: 0.973 +/- 0.010\n",
      "L'auc for KNN is: 0.878 +/- 0.029\n",
      "L'auc for clf is: 0.866 +/- 0.030\n",
      "L'auc for gnb is: 0.911 +/- 0.020\n"
     ]
    }
   ],
   "source": [
    "# test pipeline\n",
    "pipeline(sms, spam_num)"
   ]
  },
  {
   "cell_type": "code",
   "execution_count": 105,
   "metadata": {},
   "outputs": [
    {
     "data": {
      "text/html": [
       "<div>\n",
       "<style>\n",
       "    .dataframe thead tr:only-child th {\n",
       "        text-align: right;\n",
       "    }\n",
       "\n",
       "    .dataframe thead th {\n",
       "        text-align: left;\n",
       "    }\n",
       "\n",
       "    .dataframe tbody tr th {\n",
       "        vertical-align: top;\n",
       "    }\n",
       "</style>\n",
       "<table border=\"1\" class=\"dataframe\">\n",
       "  <thead>\n",
       "    <tr style=\"text-align: right;\">\n",
       "      <th></th>\n",
       "      <th>Stars</th>\n",
       "      <th>Text</th>\n",
       "    </tr>\n",
       "  </thead>\n",
       "  <tbody>\n",
       "    <tr>\n",
       "      <th>0</th>\n",
       "      <td>1</td>\n",
       "      <td>Boarded my English Mastiff here over New Year'...</td>\n",
       "    </tr>\n",
       "    <tr>\n",
       "      <th>1</th>\n",
       "      <td>1</td>\n",
       "      <td>Another case of the Emperor's New Clothes.  So...</td>\n",
       "    </tr>\n",
       "    <tr>\n",
       "      <th>2</th>\n",
       "      <td>1</td>\n",
       "      <td>Came on Valentine's Day night having pre-bough...</td>\n",
       "    </tr>\n",
       "    <tr>\n",
       "      <th>3</th>\n",
       "      <td>1</td>\n",
       "      <td>2Nd time eating here today.1st time was great ...</td>\n",
       "    </tr>\n",
       "    <tr>\n",
       "      <th>4</th>\n",
       "      <td>1</td>\n",
       "      <td>Allegiant is a disaster.  Their fares are chea...</td>\n",
       "    </tr>\n",
       "    <tr>\n",
       "      <th>5</th>\n",
       "      <td>1</td>\n",
       "      <td>Saturday weekend after thanksgiving. Afternoon...</td>\n",
       "    </tr>\n",
       "    <tr>\n",
       "      <th>6</th>\n",
       "      <td>1</td>\n",
       "      <td>Very unimpressed by their pad Thai.. one of th...</td>\n",
       "    </tr>\n",
       "    <tr>\n",
       "      <th>7</th>\n",
       "      <td>1</td>\n",
       "      <td>I just called this North york Location at 416-...</td>\n",
       "    </tr>\n",
       "    <tr>\n",
       "      <th>8</th>\n",
       "      <td>1</td>\n",
       "      <td>So disappointed in the service that by the tim...</td>\n",
       "    </tr>\n",
       "    <tr>\n",
       "      <th>9</th>\n",
       "      <td>1</td>\n",
       "      <td>Service here is a complete clusterfuk.  Very d...</td>\n",
       "    </tr>\n",
       "    <tr>\n",
       "      <th>10</th>\n",
       "      <td>1</td>\n",
       "      <td>Arrived at 1:40pm on a Sunday just to get flat...</td>\n",
       "    </tr>\n",
       "    <tr>\n",
       "      <th>11</th>\n",
       "      <td>1</td>\n",
       "      <td>The main reason we came here was to try the la...</td>\n",
       "    </tr>\n",
       "    <tr>\n",
       "      <th>12</th>\n",
       "      <td>1</td>\n",
       "      <td>I waited for my order for over 10 minutes. I o...</td>\n",
       "    </tr>\n",
       "    <tr>\n",
       "      <th>13</th>\n",
       "      <td>1</td>\n",
       "      <td>Made an appt and she never showed up! No phone...</td>\n",
       "    </tr>\n",
       "    <tr>\n",
       "      <th>14</th>\n",
       "      <td>1</td>\n",
       "      <td>Terrible.  Very disappointing. We went for ram...</td>\n",
       "    </tr>\n",
       "    <tr>\n",
       "      <th>15</th>\n",
       "      <td>1</td>\n",
       "      <td>Should've gone to Costco.  The clerk at the ph...</td>\n",
       "    </tr>\n",
       "    <tr>\n",
       "      <th>16</th>\n",
       "      <td>1</td>\n",
       "      <td>I went into this Alex and Ani just browsing. I...</td>\n",
       "    </tr>\n",
       "    <tr>\n",
       "      <th>17</th>\n",
       "      <td>1</td>\n",
       "      <td>The car we rented was horrible filthy. It look...</td>\n",
       "    </tr>\n",
       "    <tr>\n",
       "      <th>18</th>\n",
       "      <td>1</td>\n",
       "      <td>Not a bad place to stay. Given the lack of ame...</td>\n",
       "    </tr>\n",
       "    <tr>\n",
       "      <th>19</th>\n",
       "      <td>1</td>\n",
       "      <td>Poor customer service, poor quality of food, d...</td>\n",
       "    </tr>\n",
       "  </tbody>\n",
       "</table>\n",
       "</div>"
      ],
      "text/plain": [
       "    Stars                                               Text\n",
       "0       1  Boarded my English Mastiff here over New Year'...\n",
       "1       1  Another case of the Emperor's New Clothes.  So...\n",
       "2       1  Came on Valentine's Day night having pre-bough...\n",
       "3       1  2Nd time eating here today.1st time was great ...\n",
       "4       1  Allegiant is a disaster.  Their fares are chea...\n",
       "5       1  Saturday weekend after thanksgiving. Afternoon...\n",
       "6       1  Very unimpressed by their pad Thai.. one of th...\n",
       "7       1  I just called this North york Location at 416-...\n",
       "8       1  So disappointed in the service that by the tim...\n",
       "9       1  Service here is a complete clusterfuk.  Very d...\n",
       "10      1  Arrived at 1:40pm on a Sunday just to get flat...\n",
       "11      1  The main reason we came here was to try the la...\n",
       "12      1  I waited for my order for over 10 minutes. I o...\n",
       "13      1  Made an appt and she never showed up! No phone...\n",
       "14      1  Terrible.  Very disappointing. We went for ram...\n",
       "15      1  Should've gone to Costco.  The clerk at the ph...\n",
       "16      1  I went into this Alex and Ani just browsing. I...\n",
       "17      1  The car we rented was horrible filthy. It look...\n",
       "18      1  Not a bad place to stay. Given the lack of ame...\n",
       "19      1  Poor customer service, poor quality of food, d..."
      ]
     },
     "execution_count": 105,
     "metadata": {},
     "output_type": "execute_result"
    }
   ],
   "source": [
    "yelp= pd.read_csv(\"yelp-text-by-stars.csv\",error_bad_lines=False, engine='python',sep =';')\n",
    "\n",
    "yelp.head(20)"
   ]
  },
  {
   "cell_type": "code",
   "execution_count": 102,
   "metadata": {},
   "outputs": [
    {
     "data": {
      "text/html": [
       "<div>\n",
       "<style>\n",
       "    .dataframe thead tr:only-child th {\n",
       "        text-align: right;\n",
       "    }\n",
       "\n",
       "    .dataframe thead th {\n",
       "        text-align: left;\n",
       "    }\n",
       "\n",
       "    .dataframe tbody tr th {\n",
       "        vertical-align: top;\n",
       "    }\n",
       "</style>\n",
       "<table border=\"1\" class=\"dataframe\">\n",
       "  <thead>\n",
       "    <tr style=\"text-align: right;\">\n",
       "      <th></th>\n",
       "      <th>Stars</th>\n",
       "    </tr>\n",
       "  </thead>\n",
       "  <tbody>\n",
       "    <tr>\n",
       "      <th>count</th>\n",
       "      <td>47371.000000</td>\n",
       "    </tr>\n",
       "    <tr>\n",
       "      <th>mean</th>\n",
       "      <td>3.724008</td>\n",
       "    </tr>\n",
       "    <tr>\n",
       "      <th>std</th>\n",
       "      <td>1.421121</td>\n",
       "    </tr>\n",
       "    <tr>\n",
       "      <th>min</th>\n",
       "      <td>1.000000</td>\n",
       "    </tr>\n",
       "    <tr>\n",
       "      <th>25%</th>\n",
       "      <td>3.000000</td>\n",
       "    </tr>\n",
       "    <tr>\n",
       "      <th>50%</th>\n",
       "      <td>4.000000</td>\n",
       "    </tr>\n",
       "    <tr>\n",
       "      <th>75%</th>\n",
       "      <td>5.000000</td>\n",
       "    </tr>\n",
       "    <tr>\n",
       "      <th>max</th>\n",
       "      <td>5.000000</td>\n",
       "    </tr>\n",
       "  </tbody>\n",
       "</table>\n",
       "</div>"
      ],
      "text/plain": [
       "              Stars\n",
       "count  47371.000000\n",
       "mean       3.724008\n",
       "std        1.421121\n",
       "min        1.000000\n",
       "25%        3.000000\n",
       "50%        4.000000\n",
       "75%        5.000000\n",
       "max        5.000000"
      ]
     },
     "execution_count": 102,
     "metadata": {},
     "output_type": "execute_result"
    }
   ],
   "source": [
    "#Prétraitement sur la variable Stars\n",
    "yelp.describe()\n"
   ]
  },
  {
   "cell_type": "code",
   "execution_count": null,
   "metadata": {},
   "outputs": [],
   "source": [
    "#Pour le choix des commentaires nous avons suivi l'article sur medium \n",
    "#https://medium.com/tensorist/classifying-yelp-reviews-using-nltk-and-scikit-learn-c58e71e962d9\n",
    "stars = yelp.groupby('Stars').mean()\n",
    "stars.corr()"
   ]
  },
  {
   "cell_type": "code",
   "execution_count": 109,
   "metadata": {},
   "outputs": [
    {
     "data": {
      "text/plain": [
       "(26279, 2)"
      ]
     },
     "execution_count": 109,
     "metadata": {},
     "output_type": "execute_result"
    }
   ],
   "source": [
    "# Notre tâche est de prédire si un commentaire est mauvais ou bon, prenons donc simplement\n",
    "#les commentaires à une ou cinq étoiles de la base de données\n",
    "yelp_class = yelp[(yelp['Stars'] == 1) | (yelp['Stars'] == 5)]\n",
    "yelp_class.shape"
   ]
  },
  {
   "cell_type": "code",
   "execution_count": 111,
   "metadata": {},
   "outputs": [
    {
     "name": "stdout",
     "output_type": "stream",
     "text": [
      "Countvector\n",
      "L'auc for RF is: 0.858 +/- 0.008\n",
      "L'auc for KNN is: 0.857 +/- 0.010\n",
      "L'auc for clf is: 0.800 +/- 0.011\n",
      "L'auc for gnb is: 0.615 +/- 0.015\n",
      "TfidfVectorize\n",
      "L'auc for RF is: 0.927 +/- 0.003\n",
      "L'auc for KNN is: 0.667 +/- 0.019\n",
      "L'auc for clf is: 0.832 +/- 0.011\n",
      "L'auc for gnb is: 0.799 +/- 0.007\n"
     ]
    }
   ],
   "source": [
    "yelp_text = yelp_class.ix[:,1].values\n",
    "Y_yelp = yelp_class.ix[:,0].values\n",
    "\n",
    "pipeline(yelp_text,Y_yelp)\n"
   ]
  },
  {
   "cell_type": "markdown",
   "metadata": {},
   "source": []
  }
 ],
 "metadata": {
  "kernelspec": {
   "display_name": "Python 3",
   "language": "python",
   "name": "python3"
  },
  "language_info": {
   "codemirror_mode": {
    "name": "ipython",
    "version": 3
   },
   "file_extension": ".py",
   "mimetype": "text/x-python",
   "name": "python",
   "nbconvert_exporter": "python",
   "pygments_lexer": "ipython3",
   "version": "3.6.3"
  }
 },
 "nbformat": 4,
 "nbformat_minor": 2
}
